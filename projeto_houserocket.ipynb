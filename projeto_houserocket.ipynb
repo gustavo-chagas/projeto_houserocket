{
 "cells": [
  {
   "cell_type": "markdown",
   "id": "fb5006cb",
   "metadata": {},
   "source": [
    "## Questão de negócio: encontrar casas abaixo do valor de mercado para que seja possível a realização de lucro"
   ]
  },
  {
   "cell_type": "markdown",
   "id": "98619e5e",
   "metadata": {},
   "source": [
    "### Importando o dataset e trocando a coluna date para tipo datetime"
   ]
  },
  {
   "cell_type": "code",
   "execution_count": 2,
   "id": "6346dd96",
   "metadata": {
    "scrolled": false
   },
   "outputs": [
    {
     "name": "stdout",
     "output_type": "stream",
     "text": [
      "(21613, 21)\n",
      "Index(['id', 'date', 'price', 'bedrooms', 'bathrooms', 'sqft_living',\n",
      "       'sqft_lot', 'floors', 'waterfront', 'view', 'condition', 'grade',\n",
      "       'sqft_above', 'sqft_basement', 'yr_built', 'yr_renovated', 'zipcode',\n",
      "       'lat', 'long', 'sqft_living15', 'sqft_lot15'],\n",
      "      dtype='object')\n"
     ]
    }
   ],
   "source": [
    "import pandas as pd\n",
    "import matplotlib.pyplot as plt\n",
    "import numpy as np\n",
    "\n",
    "pd.set_option('display.float_format', lambda x: '%.2f' % x)\n",
    "\n",
    "df = pd.read_csv('kc_house_data.csv')\n",
    "\n",
    "df['date'] = pd.to_datetime(df['date'])\n",
    "print(df.shape)\n",
    "print(df.columns)"
   ]
  },
  {
   "cell_type": "markdown",
   "id": "f3ba94c2",
   "metadata": {},
   "source": [
    "## Hipótese 1: Existem casas em boas condições com valor abaixo de 50% do valor da mediana da área"
   ]
  },
  {
   "cell_type": "markdown",
   "id": "25e072ef",
   "metadata": {},
   "source": [
    "### Estratégia: selecionar casas com preço abaixo da mediana de preço do respectivo zipcode (código de área) e filtrar apenas casas em boas condições."
   ]
  },
  {
   "cell_type": "code",
   "execution_count": 26,
   "id": "44c2cf2e",
   "metadata": {},
   "outputs": [],
   "source": [
    "median = df[['price','zipcode']].groupby('zipcode').median().reset_index()\n",
    "median.rename(columns={'price':'price_median'}, inplace=True)"
   ]
  },
  {
   "cell_type": "code",
   "execution_count": 4,
   "id": "2ccc205b",
   "metadata": {},
   "outputs": [
    {
     "name": "stdout",
     "output_type": "stream",
     "text": [
      "[3 5 4 1 2]\n"
     ]
    }
   ],
   "source": [
    "df2 = pd.merge(df, median, on=['zipcode'], how='inner')\n",
    "print(df['condition'].unique())\n",
    "for i in range(len(df2)):\n",
    "    if (df2.loc[i,'price']< df2.loc[i,'price_median']) and (df2.loc[i,'condition']==5):\n",
    "        df2.loc[i,'recommendation'] = 'buy'\n",
    "    else:\n",
    "        df2.loc[i,'recommendation'] = 'dont buy'\n"
   ]
  },
  {
   "cell_type": "code",
   "execution_count": 12,
   "id": "134dac3d",
   "metadata": {},
   "outputs": [],
   "source": [
    "tobuy = df2[df2['recommendation']=='buy'][['id','zipcode','price','price_median','condition']]"
   ]
  },
  {
   "cell_type": "markdown",
   "id": "ca8e9edb",
   "metadata": {},
   "source": [
    "### Encontrando as maiores diferenças relativas entre o preço e o preço mediano"
   ]
  },
  {
   "cell_type": "code",
   "execution_count": 13,
   "id": "71c49eab",
   "metadata": {},
   "outputs": [
    {
     "data": {
      "text/html": [
       "<div>\n",
       "<style scoped>\n",
       "    .dataframe tbody tr th:only-of-type {\n",
       "        vertical-align: middle;\n",
       "    }\n",
       "\n",
       "    .dataframe tbody tr th {\n",
       "        vertical-align: top;\n",
       "    }\n",
       "\n",
       "    .dataframe thead th {\n",
       "        text-align: right;\n",
       "    }\n",
       "</style>\n",
       "<table border=\"1\" class=\"dataframe\">\n",
       "  <thead>\n",
       "    <tr style=\"text-align: right;\">\n",
       "      <th></th>\n",
       "      <th>id</th>\n",
       "      <th>zipcode</th>\n",
       "      <th>price</th>\n",
       "      <th>price_median</th>\n",
       "      <th>condition</th>\n",
       "      <th>difference</th>\n",
       "    </tr>\n",
       "  </thead>\n",
       "  <tbody>\n",
       "    <tr>\n",
       "      <th>3373</th>\n",
       "      <td>5111400086</td>\n",
       "      <td>98038</td>\n",
       "      <td>110000.00</td>\n",
       "      <td>342000.00</td>\n",
       "      <td>5</td>\n",
       "      <td>67.84</td>\n",
       "    </tr>\n",
       "    <tr>\n",
       "      <th>10654</th>\n",
       "      <td>4337600005</td>\n",
       "      <td>98166</td>\n",
       "      <td>153000.00</td>\n",
       "      <td>390000.00</td>\n",
       "      <td>5</td>\n",
       "      <td>60.77</td>\n",
       "    </tr>\n",
       "    <tr>\n",
       "      <th>10072</th>\n",
       "      <td>418000310</td>\n",
       "      <td>98056</td>\n",
       "      <td>155000.00</td>\n",
       "      <td>380000.00</td>\n",
       "      <td>5</td>\n",
       "      <td>59.21</td>\n",
       "    </tr>\n",
       "    <tr>\n",
       "      <th>5349</th>\n",
       "      <td>1172000150</td>\n",
       "      <td>98103</td>\n",
       "      <td>238000.00</td>\n",
       "      <td>550000.00</td>\n",
       "      <td>5</td>\n",
       "      <td>56.73</td>\n",
       "    </tr>\n",
       "    <tr>\n",
       "      <th>10172</th>\n",
       "      <td>425200205</td>\n",
       "      <td>98056</td>\n",
       "      <td>165000.00</td>\n",
       "      <td>380000.00</td>\n",
       "      <td>5</td>\n",
       "      <td>56.58</td>\n",
       "    </tr>\n",
       "    <tr>\n",
       "      <th>12017</th>\n",
       "      <td>8651402750</td>\n",
       "      <td>98042</td>\n",
       "      <td>132825.00</td>\n",
       "      <td>292000.00</td>\n",
       "      <td>5</td>\n",
       "      <td>54.51</td>\n",
       "    </tr>\n",
       "    <tr>\n",
       "      <th>6882</th>\n",
       "      <td>3977630130</td>\n",
       "      <td>98092</td>\n",
       "      <td>146300.00</td>\n",
       "      <td>309780.00</td>\n",
       "      <td>5</td>\n",
       "      <td>52.77</td>\n",
       "    </tr>\n",
       "    <tr>\n",
       "      <th>18320</th>\n",
       "      <td>643300010</td>\n",
       "      <td>98006</td>\n",
       "      <td>365000.00</td>\n",
       "      <td>760184.50</td>\n",
       "      <td>5</td>\n",
       "      <td>51.99</td>\n",
       "    </tr>\n",
       "    <tr>\n",
       "      <th>16653</th>\n",
       "      <td>1771110090</td>\n",
       "      <td>98077</td>\n",
       "      <td>316000.00</td>\n",
       "      <td>652475.00</td>\n",
       "      <td>5</td>\n",
       "      <td>51.57</td>\n",
       "    </tr>\n",
       "    <tr>\n",
       "      <th>18351</th>\n",
       "      <td>2206700215</td>\n",
       "      <td>98006</td>\n",
       "      <td>375000.00</td>\n",
       "      <td>760184.50</td>\n",
       "      <td>5</td>\n",
       "      <td>50.67</td>\n",
       "    </tr>\n",
       "  </tbody>\n",
       "</table>\n",
       "</div>"
      ],
      "text/plain": [
       "               id  zipcode     price  price_median  condition  difference\n",
       "3373   5111400086    98038 110000.00     342000.00          5       67.84\n",
       "10654  4337600005    98166 153000.00     390000.00          5       60.77\n",
       "10072   418000310    98056 155000.00     380000.00          5       59.21\n",
       "5349   1172000150    98103 238000.00     550000.00          5       56.73\n",
       "10172   425200205    98056 165000.00     380000.00          5       56.58\n",
       "12017  8651402750    98042 132825.00     292000.00          5       54.51\n",
       "6882   3977630130    98092 146300.00     309780.00          5       52.77\n",
       "18320   643300010    98006 365000.00     760184.50          5       51.99\n",
       "16653  1771110090    98077 316000.00     652475.00          5       51.57\n",
       "18351  2206700215    98006 375000.00     760184.50          5       50.67"
      ]
     },
     "execution_count": 13,
     "metadata": {},
     "output_type": "execute_result"
    }
   ],
   "source": [
    "tobuy['difference'] = ((tobuy['price_median']-tobuy['price'])/tobuy['price_median'])*100;\n",
    "tobuy.sort_values('difference',ascending=False).head(10)"
   ]
  },
  {
   "cell_type": "markdown",
   "id": "ccc69950",
   "metadata": {},
   "source": [
    "## Hipótese 2: A diferença de preço mediano entre casas com 1 e 2 quartos é maior do que a diferença entre as outras quantidades de quartos"
   ]
  },
  {
   "cell_type": "markdown",
   "id": "43a26d03",
   "metadata": {},
   "source": [
    "### Estratégia: tirar a média por número de quartos, depois fazer a diferença entre as médias"
   ]
  },
  {
   "cell_type": "code",
   "execution_count": 7,
   "id": "7efc6985",
   "metadata": {},
   "outputs": [
    {
     "data": {
      "image/png": "[encoded data removed]",
      "text/plain": [
       "<Figure size 432x288 with 1 Axes>"
      ]
     },
     "metadata": {
      "needs_background": "light"
     },
     "output_type": "display_data"
    }
   ],
   "source": [
    "quartos = df[['price','bedrooms']].groupby('bedrooms').median().reset_index()\n",
    "\n",
    "\n",
    "\n",
    "plt.bar(quartos['bedrooms'],quartos['price'])\n",
    "\n",
    "plt.xticks(quartos['bedrooms']);\n"
   ]
  },
  {
   "cell_type": "code",
   "execution_count": 21,
   "id": "7fcd7c23",
   "metadata": {},
   "outputs": [
    {
     "name": "stdout",
     "output_type": "stream",
     "text": [
      "    index        dif     qt_quartos\n",
      "0       4  136997.50    De 3 para 4\n",
      "1      12  120000.00  De 11 para 33\n",
      "2       9  117000.00    De 8 para 9\n",
      "3       7   78580.00    De 6 para 7\n",
      "4       2   75000.00    De 1 para 2\n",
      "5       5   70002.50    De 4 para 5\n",
      "6       3   39000.00    De 2 para 3\n",
      "7       6   30000.00    De 5 para 6\n",
      "8       1   11000.00    De 0 para 1\n",
      "9       8  -28580.00    De 7 para 8\n",
      "10     11 -140000.00  De 10 para 11\n",
      "11     10 -157000.00   De 9 para 10\n"
     ]
    }
   ],
   "source": [
    "dif = pd.DataFrame()\n",
    "for i in range(len(quartos)):\n",
    "    if i == 0:\n",
    "        dif.loc[i,'dif'] = 0\n",
    "        dif.loc[i,'qt_quartos'] = 'De 0 para 0'\n",
    "    else:\n",
    "            dif.loc[i,'qt_quartos'] = 'De {} para {}'.format(quartos.loc[i-1,'bedrooms'],quartos.loc[i,'bedrooms'])\n",
    "            dif.loc[i,'dif'] = quartos.loc[i,'price']-quartos.loc[i-1,'price']\n",
    "dif.drop(0,inplace=True)\n",
    "dif = dif.sort_values('dif',ascending=False).reset_index()\n",
    "print(dif)\n"
   ]
  },
  {
   "cell_type": "markdown",
   "id": "712e32d8",
   "metadata": {},
   "source": [
    "## Hipótese 3: Imóveis construídos até 1950 e que foram reformados tem preços 20% maiores do que os que não foram reformados, em média"
   ]
  },
  {
   "cell_type": "markdown",
   "id": "48a25bb5",
   "metadata": {},
   "source": [
    "### Estratégia: filtrar imóveis com ano construído menor que 1950, separar os que foram renovados e os que não foram e tirar as médias"
   ]
  },
  {
   "cell_type": "code",
   "execution_count": 9,
   "id": "b14f527f",
   "metadata": {},
   "outputs": [
    {
     "data": {
      "text/plain": [
       "<BarContainer object of 2 artists>"
      ]
     },
     "execution_count": 9,
     "metadata": {},
     "output_type": "execute_result"
    },
    {
     "data": {
      "image/png": "[encoded data removed]",
      "text/plain": [
       "<Figure size 432x288 with 1 Axes>"
      ]
     },
     "metadata": {
      "needs_background": "light"
     },
     "output_type": "display_data"
    }
   ],
   "source": [
    "a_1950 = df[df['yr_built']<=1950]\n",
    "aref_1950 = a_1950[a_1950['yr_renovated']!=0]['price'].mean()\n",
    "nref_1950 = a_1950[a_1950['yr_renovated']==0]['price'].mean()\n",
    "\n",
    "\n",
    "plt.bar(['Não reformados','Reformados'],[nref_1950,aref_1950])\n"
   ]
  },
  {
   "cell_type": "markdown",
   "id": "18748e4e",
   "metadata": {},
   "source": [
    "## Hipótese 4: Os imóveis com vista para água se valorizam mais com o tempo"
   ]
  },
  {
   "cell_type": "markdown",
   "id": "50974669",
   "metadata": {},
   "source": [
    "### Estratégia: fazer uma coluna apenas com o ano, agrupar com base no ano e vista pra água, plotar médias de preço com e sem vista para cada ano. "
   ]
  },
  {
   "cell_type": "code",
   "execution_count": 10,
   "id": "213b4333",
   "metadata": {},
   "outputs": [
    {
     "data": {
      "image/png": "[encoded data removed]",
      "text/plain": [
       "<Figure size 432x288 with 1 Axes>"
      ]
     },
     "metadata": {
      "needs_background": "light"
     },
     "output_type": "display_data"
    }
   ],
   "source": [
    "df['year'] = df['date'].dt.year\n",
    "water = df[['price','year','waterfront']].groupby(['waterfront','year']).mean().reset_index()\n",
    "\n",
    "plt.plot(water[water['waterfront']==0]['year'], water[water['waterfront']==0]['price'], label = \"Sem vista\")\n",
    "plt.plot(water[water['waterfront']==1]['year'], water[water['waterfront']==1]['price'], label = \"Com vista\")\n",
    "plt.xticks(water['year']);\n",
    "plt.legend()\n",
    "plt.show()"
   ]
  },
  {
   "cell_type": "markdown",
   "id": "ecf0b32f",
   "metadata": {},
   "source": [
    "## Hipótese 5: Imóveis com porão são 20% mais caros que imóveis sem porão"
   ]
  },
  {
   "cell_type": "markdown",
   "id": "62997e6e",
   "metadata": {},
   "source": [
    "### Estratégia: separar imóveis com e sem porão pela área e criar gráfico de barras"
   ]
  },
  {
   "cell_type": "code",
   "execution_count": 25,
   "id": "911c389c",
   "metadata": {},
   "outputs": [
    {
     "data": {
      "text/plain": [
       "<BarContainer object of 2 artists>"
      ]
     },
     "execution_count": 25,
     "metadata": {},
     "output_type": "execute_result"
    },
    {
     "data": {
      "image/png": "[encoded data removed]",
      "text/plain": [
       "<Figure size 432x288 with 1 Axes>"
      ]
     },
     "metadata": {
      "needs_background": "light"
     },
     "output_type": "display_data"
    }
   ],
   "source": [
    "por = df[df['sqft_basement']>0]['price'].mean()\n",
    "spor = df[df['sqft_basement']==0]['price'].mean()\n",
    "\n",
    "plt.bar(['Sem porão','Com porão'],[spor,por])"
   ]
  },
  {
   "cell_type": "markdown",
   "id": "863c9bc5",
   "metadata": {},
   "source": [
    "## Hipótese 6: É possível ter diferença de preços médios de imóveis de 10% entre meses devido à sazonalidade"
   ]
  },
  {
   "cell_type": "markdown",
   "id": "571c4567",
   "metadata": {},
   "source": [
    "### Estratégia: extrair da data uma coluna de mês, criar uma nova coluna apenas com mês e ano e plotar valores médios em uma série temporal"
   ]
  },
  {
   "cell_type": "code",
   "execution_count": 78,
   "id": "3d0f07b7",
   "metadata": {},
   "outputs": [
    {
     "data": {
      "text/plain": [
       "[<matplotlib.lines.Line2D at 0x20a41152190>]"
      ]
     },
     "execution_count": 78,
     "metadata": {},
     "output_type": "execute_result"
    },
    {
     "data": {
      "image/png": "[encoded data removed]",
      "text/plain": [
       "<Figure size 432x288 with 1 Axes>"
      ]
     },
     "metadata": {
      "needs_background": "light"
     },
     "output_type": "display_data"
    }
   ],
   "source": [
    "df['month'] = df['date'].dt.month\n",
    "\n",
    "MoM = df[['price','month','year']].groupby(['year','month']).mean().reset_index()\n",
    "MoM[['month','year']]=MoM[['month','year']].astype(str)\n",
    "MoM['month/year'] = MoM['month'] + '/' + MoM['year']\n",
    "MoM.drop(['year','month'],axis=1,inplace=True)\n",
    "MoM['month/year'] = pd.to_datetime(MoM['month/year'],format='%m/%Y')\n",
    "plt.plot(MoM['month/year'],MoM['price'])"
   ]
  },
  {
   "cell_type": "code",
   "execution_count": null,
   "id": "76881126",
   "metadata": {},
   "outputs": [],
   "source": []
  }
 ],
 "metadata": {
  "kernelspec": {
   "display_name": "Python 3 (ipykernel)",
   "language": "python",
   "name": "python3"
  },
  "language_info": {
   "codemirror_mode": {
    "name": "ipython",
    "version": 3
   },
   "file_extension": ".py",
   "mimetype": "text/x-python",
   "name": "python",
   "nbconvert_exporter": "python",
   "pygments_lexer": "ipython3",
   "version": "3.9.7"
  }
 },
 "nbformat": 4,
 "nbformat_minor": 5
}
