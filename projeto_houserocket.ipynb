{
 "cells": [
  {
   "cell_type": "markdown",
   "id": "fb5006cb",
   "metadata": {},
   "source": [
    "## Questão de negócio: encontrar casas abaixo do valor de mercado para que seja possível a realização de lucro"
   ]
  },
  {
   "cell_type": "markdown",
   "id": "98619e5e",
   "metadata": {},
   "source": [
    "### Importando o dataset e trocando a coluna date para tipo datetime"
   ]
  },
  {
   "cell_type": "code",
   "execution_count": 30,
   "id": "6346dd96",
   "metadata": {
    "scrolled": false
   },
   "outputs": [
    {
     "name": "stdout",
     "output_type": "stream",
     "text": [
      "(21613, 21)\n",
      "Index(['id', 'date', 'price', 'bedrooms', 'bathrooms', 'sqft_living',\n",
      "       'sqft_lot', 'floors', 'waterfront', 'view', 'condition', 'grade',\n",
      "       'sqft_above', 'sqft_basement', 'yr_built', 'yr_renovated', 'zipcode',\n",
      "       'lat', 'long', 'sqft_living15', 'sqft_lot15'],\n",
      "      dtype='object')\n"
     ]
    }
   ],
   "source": [
    "import pandas as pd\n",
    "import matplotlib.pyplot as plt\n",
    "import numpy as np\n",
    "\n",
    "pd.set_option('display.float_format', lambda x: '%.2f' % x)\n",
    "\n",
    "df = pd.read_csv('kc_house_data.csv')\n",
    "\n",
    "df['date'] = pd.to_datetime(df['date'])\n",
    "print(df.shape)\n",
    "print(df.columns)"
   ]
  },
  {
   "cell_type": "markdown",
   "id": "63b78762",
   "metadata": {},
   "source": [
    "## Limpeza de dados"
   ]
  },
  {
   "cell_type": "markdown",
   "id": "12a45505",
   "metadata": {},
   "source": [
    "### Checando se há duplicatas"
   ]
  },
  {
   "cell_type": "code",
   "execution_count": 16,
   "id": "99a4812a",
   "metadata": {},
   "outputs": [
    {
     "data": {
      "text/html": [
       "<div>\n",
       "<style scoped>\n",
       "    .dataframe tbody tr th:only-of-type {\n",
       "        vertical-align: middle;\n",
       "    }\n",
       "\n",
       "    .dataframe tbody tr th {\n",
       "        vertical-align: top;\n",
       "    }\n",
       "\n",
       "    .dataframe thead th {\n",
       "        text-align: right;\n",
       "    }\n",
       "</style>\n",
       "<table border=\"1\" class=\"dataframe\">\n",
       "  <thead>\n",
       "    <tr style=\"text-align: right;\">\n",
       "      <th></th>\n",
       "      <th>id</th>\n",
       "      <th>date</th>\n",
       "      <th>price</th>\n",
       "      <th>bedrooms</th>\n",
       "      <th>bathrooms</th>\n",
       "      <th>sqft_living</th>\n",
       "      <th>sqft_lot</th>\n",
       "      <th>floors</th>\n",
       "      <th>waterfront</th>\n",
       "      <th>view</th>\n",
       "      <th>...</th>\n",
       "      <th>grade</th>\n",
       "      <th>sqft_above</th>\n",
       "      <th>sqft_basement</th>\n",
       "      <th>yr_built</th>\n",
       "      <th>yr_renovated</th>\n",
       "      <th>zipcode</th>\n",
       "      <th>lat</th>\n",
       "      <th>long</th>\n",
       "      <th>sqft_living15</th>\n",
       "      <th>sqft_lot15</th>\n",
       "    </tr>\n",
       "  </thead>\n",
       "  <tbody>\n",
       "  </tbody>\n",
       "</table>\n",
       "<p>0 rows × 21 columns</p>\n",
       "</div>"
      ],
      "text/plain": [
       "Empty DataFrame\n",
       "Columns: [id, date, price, bedrooms, bathrooms, sqft_living, sqft_lot, floors, waterfront, view, condition, grade, sqft_above, sqft_basement, yr_built, yr_renovated, zipcode, lat, long, sqft_living15, sqft_lot15]\n",
       "Index: []\n",
       "\n",
       "[0 rows x 21 columns]"
      ]
     },
     "execution_count": 16,
     "metadata": {},
     "output_type": "execute_result"
    }
   ],
   "source": [
    "df[df.duplicated(keep='first')]"
   ]
  },
  {
   "cell_type": "markdown",
   "id": "5da8224c",
   "metadata": {},
   "source": [
    "### Checando se há valores faltantes"
   ]
  },
  {
   "cell_type": "code",
   "execution_count": 15,
   "id": "5a18a8d3",
   "metadata": {},
   "outputs": [
    {
     "data": {
      "text/plain": [
       "id               0\n",
       "date             0\n",
       "price            0\n",
       "bedrooms         0\n",
       "bathrooms        0\n",
       "sqft_living      0\n",
       "sqft_lot         0\n",
       "floors           0\n",
       "waterfront       0\n",
       "view             0\n",
       "condition        0\n",
       "grade            0\n",
       "sqft_above       0\n",
       "sqft_basement    0\n",
       "yr_built         0\n",
       "yr_renovated     0\n",
       "zipcode          0\n",
       "lat              0\n",
       "long             0\n",
       "sqft_living15    0\n",
       "sqft_lot15       0\n",
       "dtype: int64"
      ]
     },
     "execution_count": 15,
     "metadata": {},
     "output_type": "execute_result"
    }
   ],
   "source": [
    "df.isna().sum()\n"
   ]
  },
  {
   "cell_type": "markdown",
   "id": "46e899ca",
   "metadata": {},
   "source": [
    "### Procurando outliers"
   ]
  },
  {
   "cell_type": "code",
   "execution_count": 17,
   "id": "c04bb682",
   "metadata": {},
   "outputs": [
    {
     "data": {
      "text/html": [
       "<div>\n",
       "<style scoped>\n",
       "    .dataframe tbody tr th:only-of-type {\n",
       "        vertical-align: middle;\n",
       "    }\n",
       "\n",
       "    .dataframe tbody tr th {\n",
       "        vertical-align: top;\n",
       "    }\n",
       "\n",
       "    .dataframe thead th {\n",
       "        text-align: right;\n",
       "    }\n",
       "</style>\n",
       "<table border=\"1\" class=\"dataframe\">\n",
       "  <thead>\n",
       "    <tr style=\"text-align: right;\">\n",
       "      <th></th>\n",
       "      <th>id</th>\n",
       "      <th>price</th>\n",
       "      <th>bedrooms</th>\n",
       "      <th>bathrooms</th>\n",
       "      <th>sqft_living</th>\n",
       "      <th>sqft_lot</th>\n",
       "      <th>floors</th>\n",
       "      <th>waterfront</th>\n",
       "      <th>view</th>\n",
       "      <th>condition</th>\n",
       "      <th>grade</th>\n",
       "      <th>sqft_above</th>\n",
       "      <th>sqft_basement</th>\n",
       "      <th>yr_built</th>\n",
       "      <th>yr_renovated</th>\n",
       "      <th>zipcode</th>\n",
       "      <th>lat</th>\n",
       "      <th>long</th>\n",
       "      <th>sqft_living15</th>\n",
       "      <th>sqft_lot15</th>\n",
       "    </tr>\n",
       "  </thead>\n",
       "  <tbody>\n",
       "    <tr>\n",
       "      <th>count</th>\n",
       "      <td>21613.00</td>\n",
       "      <td>21613.00</td>\n",
       "      <td>21613.00</td>\n",
       "      <td>21613.00</td>\n",
       "      <td>21613.00</td>\n",
       "      <td>21613.00</td>\n",
       "      <td>21613.00</td>\n",
       "      <td>21613.00</td>\n",
       "      <td>21613.00</td>\n",
       "      <td>21613.00</td>\n",
       "      <td>21613.00</td>\n",
       "      <td>21613.00</td>\n",
       "      <td>21613.00</td>\n",
       "      <td>21613.00</td>\n",
       "      <td>21613.00</td>\n",
       "      <td>21613.00</td>\n",
       "      <td>21613.00</td>\n",
       "      <td>21613.00</td>\n",
       "      <td>21613.00</td>\n",
       "      <td>21613.00</td>\n",
       "    </tr>\n",
       "    <tr>\n",
       "      <th>mean</th>\n",
       "      <td>4580301520.86</td>\n",
       "      <td>540088.14</td>\n",
       "      <td>3.37</td>\n",
       "      <td>2.11</td>\n",
       "      <td>2079.90</td>\n",
       "      <td>15106.97</td>\n",
       "      <td>1.49</td>\n",
       "      <td>0.01</td>\n",
       "      <td>0.23</td>\n",
       "      <td>3.41</td>\n",
       "      <td>7.66</td>\n",
       "      <td>1788.39</td>\n",
       "      <td>291.51</td>\n",
       "      <td>1971.01</td>\n",
       "      <td>84.40</td>\n",
       "      <td>98077.94</td>\n",
       "      <td>47.56</td>\n",
       "      <td>-122.21</td>\n",
       "      <td>1986.55</td>\n",
       "      <td>12768.46</td>\n",
       "    </tr>\n",
       "    <tr>\n",
       "      <th>std</th>\n",
       "      <td>2876565571.31</td>\n",
       "      <td>367127.20</td>\n",
       "      <td>0.93</td>\n",
       "      <td>0.77</td>\n",
       "      <td>918.44</td>\n",
       "      <td>41420.51</td>\n",
       "      <td>0.54</td>\n",
       "      <td>0.09</td>\n",
       "      <td>0.77</td>\n",
       "      <td>0.65</td>\n",
       "      <td>1.18</td>\n",
       "      <td>828.09</td>\n",
       "      <td>442.58</td>\n",
       "      <td>29.37</td>\n",
       "      <td>401.68</td>\n",
       "      <td>53.51</td>\n",
       "      <td>0.14</td>\n",
       "      <td>0.14</td>\n",
       "      <td>685.39</td>\n",
       "      <td>27304.18</td>\n",
       "    </tr>\n",
       "    <tr>\n",
       "      <th>min</th>\n",
       "      <td>1000102.00</td>\n",
       "      <td>75000.00</td>\n",
       "      <td>0.00</td>\n",
       "      <td>0.00</td>\n",
       "      <td>290.00</td>\n",
       "      <td>520.00</td>\n",
       "      <td>1.00</td>\n",
       "      <td>0.00</td>\n",
       "      <td>0.00</td>\n",
       "      <td>1.00</td>\n",
       "      <td>1.00</td>\n",
       "      <td>290.00</td>\n",
       "      <td>0.00</td>\n",
       "      <td>1900.00</td>\n",
       "      <td>0.00</td>\n",
       "      <td>98001.00</td>\n",
       "      <td>47.16</td>\n",
       "      <td>-122.52</td>\n",
       "      <td>399.00</td>\n",
       "      <td>651.00</td>\n",
       "    </tr>\n",
       "    <tr>\n",
       "      <th>25%</th>\n",
       "      <td>2123049194.00</td>\n",
       "      <td>321950.00</td>\n",
       "      <td>3.00</td>\n",
       "      <td>1.75</td>\n",
       "      <td>1427.00</td>\n",
       "      <td>5040.00</td>\n",
       "      <td>1.00</td>\n",
       "      <td>0.00</td>\n",
       "      <td>0.00</td>\n",
       "      <td>3.00</td>\n",
       "      <td>7.00</td>\n",
       "      <td>1190.00</td>\n",
       "      <td>0.00</td>\n",
       "      <td>1951.00</td>\n",
       "      <td>0.00</td>\n",
       "      <td>98033.00</td>\n",
       "      <td>47.47</td>\n",
       "      <td>-122.33</td>\n",
       "      <td>1490.00</td>\n",
       "      <td>5100.00</td>\n",
       "    </tr>\n",
       "    <tr>\n",
       "      <th>50%</th>\n",
       "      <td>3904930410.00</td>\n",
       "      <td>450000.00</td>\n",
       "      <td>3.00</td>\n",
       "      <td>2.25</td>\n",
       "      <td>1910.00</td>\n",
       "      <td>7618.00</td>\n",
       "      <td>1.50</td>\n",
       "      <td>0.00</td>\n",
       "      <td>0.00</td>\n",
       "      <td>3.00</td>\n",
       "      <td>7.00</td>\n",
       "      <td>1560.00</td>\n",
       "      <td>0.00</td>\n",
       "      <td>1975.00</td>\n",
       "      <td>0.00</td>\n",
       "      <td>98065.00</td>\n",
       "      <td>47.57</td>\n",
       "      <td>-122.23</td>\n",
       "      <td>1840.00</td>\n",
       "      <td>7620.00</td>\n",
       "    </tr>\n",
       "    <tr>\n",
       "      <th>75%</th>\n",
       "      <td>7308900445.00</td>\n",
       "      <td>645000.00</td>\n",
       "      <td>4.00</td>\n",
       "      <td>2.50</td>\n",
       "      <td>2550.00</td>\n",
       "      <td>10688.00</td>\n",
       "      <td>2.00</td>\n",
       "      <td>0.00</td>\n",
       "      <td>0.00</td>\n",
       "      <td>4.00</td>\n",
       "      <td>8.00</td>\n",
       "      <td>2210.00</td>\n",
       "      <td>560.00</td>\n",
       "      <td>1997.00</td>\n",
       "      <td>0.00</td>\n",
       "      <td>98118.00</td>\n",
       "      <td>47.68</td>\n",
       "      <td>-122.12</td>\n",
       "      <td>2360.00</td>\n",
       "      <td>10083.00</td>\n",
       "    </tr>\n",
       "    <tr>\n",
       "      <th>max</th>\n",
       "      <td>9900000190.00</td>\n",
       "      <td>7700000.00</td>\n",
       "      <td>33.00</td>\n",
       "      <td>8.00</td>\n",
       "      <td>13540.00</td>\n",
       "      <td>1651359.00</td>\n",
       "      <td>3.50</td>\n",
       "      <td>1.00</td>\n",
       "      <td>4.00</td>\n",
       "      <td>5.00</td>\n",
       "      <td>13.00</td>\n",
       "      <td>9410.00</td>\n",
       "      <td>4820.00</td>\n",
       "      <td>2015.00</td>\n",
       "      <td>2015.00</td>\n",
       "      <td>98199.00</td>\n",
       "      <td>47.78</td>\n",
       "      <td>-121.31</td>\n",
       "      <td>6210.00</td>\n",
       "      <td>871200.00</td>\n",
       "    </tr>\n",
       "  </tbody>\n",
       "</table>\n",
       "</div>"
      ],
      "text/plain": [
       "                 id      price  bedrooms  bathrooms  sqft_living   sqft_lot  \\\n",
       "count      21613.00   21613.00  21613.00   21613.00     21613.00   21613.00   \n",
       "mean  4580301520.86  540088.14      3.37       2.11      2079.90   15106.97   \n",
       "std   2876565571.31  367127.20      0.93       0.77       918.44   41420.51   \n",
       "min      1000102.00   75000.00      0.00       0.00       290.00     520.00   \n",
       "25%   2123049194.00  321950.00      3.00       1.75      1427.00    5040.00   \n",
       "50%   3904930410.00  450000.00      3.00       2.25      1910.00    7618.00   \n",
       "75%   7308900445.00  645000.00      4.00       2.50      2550.00   10688.00   \n",
       "max   9900000190.00 7700000.00     33.00       8.00     13540.00 1651359.00   \n",
       "\n",
       "        floors  waterfront     view  condition    grade  sqft_above  \\\n",
       "count 21613.00    21613.00 21613.00   21613.00 21613.00    21613.00   \n",
       "mean      1.49        0.01     0.23       3.41     7.66     1788.39   \n",
       "std       0.54        0.09     0.77       0.65     1.18      828.09   \n",
       "min       1.00        0.00     0.00       1.00     1.00      290.00   \n",
       "25%       1.00        0.00     0.00       3.00     7.00     1190.00   \n",
       "50%       1.50        0.00     0.00       3.00     7.00     1560.00   \n",
       "75%       2.00        0.00     0.00       4.00     8.00     2210.00   \n",
       "max       3.50        1.00     4.00       5.00    13.00     9410.00   \n",
       "\n",
       "       sqft_basement  yr_built  yr_renovated  zipcode      lat     long  \\\n",
       "count       21613.00  21613.00      21613.00 21613.00 21613.00 21613.00   \n",
       "mean          291.51   1971.01         84.40 98077.94    47.56  -122.21   \n",
       "std           442.58     29.37        401.68    53.51     0.14     0.14   \n",
       "min             0.00   1900.00          0.00 98001.00    47.16  -122.52   \n",
       "25%             0.00   1951.00          0.00 98033.00    47.47  -122.33   \n",
       "50%             0.00   1975.00          0.00 98065.00    47.57  -122.23   \n",
       "75%           560.00   1997.00          0.00 98118.00    47.68  -122.12   \n",
       "max          4820.00   2015.00       2015.00 98199.00    47.78  -121.31   \n",
       "\n",
       "       sqft_living15  sqft_lot15  \n",
       "count       21613.00    21613.00  \n",
       "mean         1986.55    12768.46  \n",
       "std           685.39    27304.18  \n",
       "min           399.00      651.00  \n",
       "25%          1490.00     5100.00  \n",
       "50%          1840.00     7620.00  \n",
       "75%          2360.00    10083.00  \n",
       "max          6210.00   871200.00  "
      ]
     },
     "execution_count": 17,
     "metadata": {},
     "output_type": "execute_result"
    }
   ],
   "source": [
    "df.describe()"
   ]
  },
  {
   "cell_type": "code",
   "execution_count": 39,
   "id": "5f96b9ff",
   "metadata": {},
   "outputs": [
    {
     "data": {
      "text/html": [
       "<div>\n",
       "<style scoped>\n",
       "    .dataframe tbody tr th:only-of-type {\n",
       "        vertical-align: middle;\n",
       "    }\n",
       "\n",
       "    .dataframe tbody tr th {\n",
       "        vertical-align: top;\n",
       "    }\n",
       "\n",
       "    .dataframe thead th {\n",
       "        text-align: right;\n",
       "    }\n",
       "</style>\n",
       "<table border=\"1\" class=\"dataframe\">\n",
       "  <thead>\n",
       "    <tr style=\"text-align: right;\">\n",
       "      <th></th>\n",
       "      <th>id</th>\n",
       "      <th>date</th>\n",
       "      <th>price</th>\n",
       "      <th>bedrooms</th>\n",
       "      <th>bathrooms</th>\n",
       "      <th>sqft_living</th>\n",
       "      <th>sqft_lot</th>\n",
       "      <th>floors</th>\n",
       "      <th>waterfront</th>\n",
       "      <th>view</th>\n",
       "      <th>...</th>\n",
       "      <th>grade</th>\n",
       "      <th>sqft_above</th>\n",
       "      <th>sqft_basement</th>\n",
       "      <th>yr_built</th>\n",
       "      <th>yr_renovated</th>\n",
       "      <th>zipcode</th>\n",
       "      <th>lat</th>\n",
       "      <th>long</th>\n",
       "      <th>sqft_living15</th>\n",
       "      <th>sqft_lot15</th>\n",
       "    </tr>\n",
       "  </thead>\n",
       "  <tbody>\n",
       "    <tr>\n",
       "      <th>8757</th>\n",
       "      <td>1773100755</td>\n",
       "      <td>2014-08-21</td>\n",
       "      <td>520000.00</td>\n",
       "      <td>11</td>\n",
       "      <td>3.00</td>\n",
       "      <td>3000</td>\n",
       "      <td>4960</td>\n",
       "      <td>2.00</td>\n",
       "      <td>0</td>\n",
       "      <td>0</td>\n",
       "      <td>...</td>\n",
       "      <td>7</td>\n",
       "      <td>2400</td>\n",
       "      <td>600</td>\n",
       "      <td>1918</td>\n",
       "      <td>1999</td>\n",
       "      <td>98106</td>\n",
       "      <td>47.56</td>\n",
       "      <td>-122.36</td>\n",
       "      <td>1420</td>\n",
       "      <td>4960</td>\n",
       "    </tr>\n",
       "    <tr>\n",
       "      <th>19254</th>\n",
       "      <td>8812401450</td>\n",
       "      <td>2014-12-29</td>\n",
       "      <td>660000.00</td>\n",
       "      <td>10</td>\n",
       "      <td>3.00</td>\n",
       "      <td>2920</td>\n",
       "      <td>3745</td>\n",
       "      <td>2.00</td>\n",
       "      <td>0</td>\n",
       "      <td>0</td>\n",
       "      <td>...</td>\n",
       "      <td>7</td>\n",
       "      <td>1860</td>\n",
       "      <td>1060</td>\n",
       "      <td>1913</td>\n",
       "      <td>0</td>\n",
       "      <td>98105</td>\n",
       "      <td>47.66</td>\n",
       "      <td>-122.32</td>\n",
       "      <td>1810</td>\n",
       "      <td>3745</td>\n",
       "    </tr>\n",
       "    <tr>\n",
       "      <th>15161</th>\n",
       "      <td>5566100170</td>\n",
       "      <td>2014-10-29</td>\n",
       "      <td>650000.00</td>\n",
       "      <td>10</td>\n",
       "      <td>2.00</td>\n",
       "      <td>3610</td>\n",
       "      <td>11914</td>\n",
       "      <td>2.00</td>\n",
       "      <td>0</td>\n",
       "      <td>0</td>\n",
       "      <td>...</td>\n",
       "      <td>7</td>\n",
       "      <td>3010</td>\n",
       "      <td>600</td>\n",
       "      <td>1958</td>\n",
       "      <td>0</td>\n",
       "      <td>98006</td>\n",
       "      <td>47.57</td>\n",
       "      <td>-122.17</td>\n",
       "      <td>2040</td>\n",
       "      <td>11914</td>\n",
       "    </tr>\n",
       "    <tr>\n",
       "      <th>13314</th>\n",
       "      <td>627300145</td>\n",
       "      <td>2014-08-14</td>\n",
       "      <td>1148000.00</td>\n",
       "      <td>10</td>\n",
       "      <td>5.25</td>\n",
       "      <td>4590</td>\n",
       "      <td>10920</td>\n",
       "      <td>1.00</td>\n",
       "      <td>0</td>\n",
       "      <td>2</td>\n",
       "      <td>...</td>\n",
       "      <td>9</td>\n",
       "      <td>2500</td>\n",
       "      <td>2090</td>\n",
       "      <td>2008</td>\n",
       "      <td>0</td>\n",
       "      <td>98004</td>\n",
       "      <td>47.59</td>\n",
       "      <td>-122.11</td>\n",
       "      <td>2730</td>\n",
       "      <td>10400</td>\n",
       "    </tr>\n",
       "    <tr>\n",
       "      <th>4096</th>\n",
       "      <td>1997200215</td>\n",
       "      <td>2014-05-07</td>\n",
       "      <td>599999.00</td>\n",
       "      <td>9</td>\n",
       "      <td>4.50</td>\n",
       "      <td>3830</td>\n",
       "      <td>6988</td>\n",
       "      <td>2.50</td>\n",
       "      <td>0</td>\n",
       "      <td>0</td>\n",
       "      <td>...</td>\n",
       "      <td>7</td>\n",
       "      <td>2450</td>\n",
       "      <td>1380</td>\n",
       "      <td>1938</td>\n",
       "      <td>0</td>\n",
       "      <td>98103</td>\n",
       "      <td>47.69</td>\n",
       "      <td>-122.34</td>\n",
       "      <td>1460</td>\n",
       "      <td>6291</td>\n",
       "    </tr>\n",
       "    <tr>\n",
       "      <th>...</th>\n",
       "      <td>...</td>\n",
       "      <td>...</td>\n",
       "      <td>...</td>\n",
       "      <td>...</td>\n",
       "      <td>...</td>\n",
       "      <td>...</td>\n",
       "      <td>...</td>\n",
       "      <td>...</td>\n",
       "      <td>...</td>\n",
       "      <td>...</td>\n",
       "      <td>...</td>\n",
       "      <td>...</td>\n",
       "      <td>...</td>\n",
       "      <td>...</td>\n",
       "      <td>...</td>\n",
       "      <td>...</td>\n",
       "      <td>...</td>\n",
       "      <td>...</td>\n",
       "      <td>...</td>\n",
       "      <td>...</td>\n",
       "      <td>...</td>\n",
       "    </tr>\n",
       "    <tr>\n",
       "      <th>12484</th>\n",
       "      <td>1172000150</td>\n",
       "      <td>2014-08-29</td>\n",
       "      <td>238000.00</td>\n",
       "      <td>1</td>\n",
       "      <td>1.00</td>\n",
       "      <td>530</td>\n",
       "      <td>6350</td>\n",
       "      <td>1.00</td>\n",
       "      <td>0</td>\n",
       "      <td>0</td>\n",
       "      <td>...</td>\n",
       "      <td>5</td>\n",
       "      <td>530</td>\n",
       "      <td>0</td>\n",
       "      <td>1941</td>\n",
       "      <td>0</td>\n",
       "      <td>98103</td>\n",
       "      <td>47.69</td>\n",
       "      <td>-122.36</td>\n",
       "      <td>1200</td>\n",
       "      <td>6350</td>\n",
       "    </tr>\n",
       "    <tr>\n",
       "      <th>7017</th>\n",
       "      <td>203100460</td>\n",
       "      <td>2014-09-24</td>\n",
       "      <td>400000.00</td>\n",
       "      <td>1</td>\n",
       "      <td>1.00</td>\n",
       "      <td>530</td>\n",
       "      <td>13679</td>\n",
       "      <td>1.00</td>\n",
       "      <td>0</td>\n",
       "      <td>0</td>\n",
       "      <td>...</td>\n",
       "      <td>6</td>\n",
       "      <td>530</td>\n",
       "      <td>0</td>\n",
       "      <td>1949</td>\n",
       "      <td>0</td>\n",
       "      <td>98053</td>\n",
       "      <td>47.64</td>\n",
       "      <td>-121.95</td>\n",
       "      <td>1930</td>\n",
       "      <td>20624</td>\n",
       "    </tr>\n",
       "    <tr>\n",
       "      <th>13329</th>\n",
       "      <td>4356200120</td>\n",
       "      <td>2014-10-23</td>\n",
       "      <td>248000.00</td>\n",
       "      <td>1</td>\n",
       "      <td>1.00</td>\n",
       "      <td>790</td>\n",
       "      <td>12000</td>\n",
       "      <td>1.00</td>\n",
       "      <td>0</td>\n",
       "      <td>0</td>\n",
       "      <td>...</td>\n",
       "      <td>6</td>\n",
       "      <td>790</td>\n",
       "      <td>0</td>\n",
       "      <td>1918</td>\n",
       "      <td>0</td>\n",
       "      <td>98118</td>\n",
       "      <td>47.51</td>\n",
       "      <td>-122.27</td>\n",
       "      <td>1900</td>\n",
       "      <td>6000</td>\n",
       "    </tr>\n",
       "    <tr>\n",
       "      <th>3582</th>\n",
       "      <td>1925069006</td>\n",
       "      <td>2014-12-03</td>\n",
       "      <td>355000.00</td>\n",
       "      <td>1</td>\n",
       "      <td>0.75</td>\n",
       "      <td>530</td>\n",
       "      <td>33278</td>\n",
       "      <td>1.00</td>\n",
       "      <td>0</td>\n",
       "      <td>2</td>\n",
       "      <td>...</td>\n",
       "      <td>4</td>\n",
       "      <td>530</td>\n",
       "      <td>0</td>\n",
       "      <td>1950</td>\n",
       "      <td>0</td>\n",
       "      <td>98074</td>\n",
       "      <td>47.64</td>\n",
       "      <td>-122.08</td>\n",
       "      <td>2830</td>\n",
       "      <td>14311</td>\n",
       "    </tr>\n",
       "    <tr>\n",
       "      <th>14386</th>\n",
       "      <td>7518503065</td>\n",
       "      <td>2014-06-23</td>\n",
       "      <td>335000.00</td>\n",
       "      <td>1</td>\n",
       "      <td>1.00</td>\n",
       "      <td>720</td>\n",
       "      <td>5100</td>\n",
       "      <td>1.00</td>\n",
       "      <td>0</td>\n",
       "      <td>0</td>\n",
       "      <td>...</td>\n",
       "      <td>6</td>\n",
       "      <td>720</td>\n",
       "      <td>0</td>\n",
       "      <td>1907</td>\n",
       "      <td>0</td>\n",
       "      <td>98117</td>\n",
       "      <td>47.68</td>\n",
       "      <td>-122.38</td>\n",
       "      <td>1320</td>\n",
       "      <td>5100</td>\n",
       "    </tr>\n",
       "  </tbody>\n",
       "</table>\n",
       "<p>21596 rows × 21 columns</p>\n",
       "</div>"
      ],
      "text/plain": [
       "               id       date      price  bedrooms  bathrooms  sqft_living  \\\n",
       "8757   1773100755 2014-08-21  520000.00        11       3.00         3000   \n",
       "19254  8812401450 2014-12-29  660000.00        10       3.00         2920   \n",
       "15161  5566100170 2014-10-29  650000.00        10       2.00         3610   \n",
       "13314   627300145 2014-08-14 1148000.00        10       5.25         4590   \n",
       "4096   1997200215 2014-05-07  599999.00         9       4.50         3830   \n",
       "...           ...        ...        ...       ...        ...          ...   \n",
       "12484  1172000150 2014-08-29  238000.00         1       1.00          530   \n",
       "7017    203100460 2014-09-24  400000.00         1       1.00          530   \n",
       "13329  4356200120 2014-10-23  248000.00         1       1.00          790   \n",
       "3582   1925069006 2014-12-03  355000.00         1       0.75          530   \n",
       "14386  7518503065 2014-06-23  335000.00         1       1.00          720   \n",
       "\n",
       "       sqft_lot  floors  waterfront  view  ...  grade  sqft_above  \\\n",
       "8757       4960    2.00           0     0  ...      7        2400   \n",
       "19254      3745    2.00           0     0  ...      7        1860   \n",
       "15161     11914    2.00           0     0  ...      7        3010   \n",
       "13314     10920    1.00           0     2  ...      9        2500   \n",
       "4096       6988    2.50           0     0  ...      7        2450   \n",
       "...         ...     ...         ...   ...  ...    ...         ...   \n",
       "12484      6350    1.00           0     0  ...      5         530   \n",
       "7017      13679    1.00           0     0  ...      6         530   \n",
       "13329     12000    1.00           0     0  ...      6         790   \n",
       "3582      33278    1.00           0     2  ...      4         530   \n",
       "14386      5100    1.00           0     0  ...      6         720   \n",
       "\n",
       "       sqft_basement  yr_built  yr_renovated  zipcode   lat    long  \\\n",
       "8757             600      1918          1999    98106 47.56 -122.36   \n",
       "19254           1060      1913             0    98105 47.66 -122.32   \n",
       "15161            600      1958             0    98006 47.57 -122.17   \n",
       "13314           2090      2008             0    98004 47.59 -122.11   \n",
       "4096            1380      1938             0    98103 47.69 -122.34   \n",
       "...              ...       ...           ...      ...   ...     ...   \n",
       "12484              0      1941             0    98103 47.69 -122.36   \n",
       "7017               0      1949             0    98053 47.64 -121.95   \n",
       "13329              0      1918             0    98118 47.51 -122.27   \n",
       "3582               0      1950             0    98074 47.64 -122.08   \n",
       "14386              0      1907             0    98117 47.68 -122.38   \n",
       "\n",
       "       sqft_living15  sqft_lot15  \n",
       "8757            1420        4960  \n",
       "19254           1810        3745  \n",
       "15161           2040       11914  \n",
       "13314           2730       10400  \n",
       "4096            1460        6291  \n",
       "...              ...         ...  \n",
       "12484           1200        6350  \n",
       "7017            1930       20624  \n",
       "13329           1900        6000  \n",
       "3582            2830       14311  \n",
       "14386           1320        5100  \n",
       "\n",
       "[21596 rows x 21 columns]"
      ]
     },
     "execution_count": 39,
     "metadata": {},
     "output_type": "execute_result"
    }
   ],
   "source": [
    "df.drop(df[df['bedrooms']==33].index,inplace=True)\n",
    "df.drop(df[df['bedrooms']==0].index,inplace=True)\n",
    "df.drop(df[df['bathrooms']==0].index,inplace=True)\n",
    "df.sort_values('bedrooms',ascending=False)"
   ]
  },
  {
   "cell_type": "markdown",
   "id": "f3ba94c2",
   "metadata": {},
   "source": [
    "## Hipótese 1: Existem casas em boas condições com valor abaixo de 50% do valor da mediana da área"
   ]
  },
  {
   "cell_type": "markdown",
   "id": "25e072ef",
   "metadata": {},
   "source": [
    "### Estratégia: selecionar casas com preço abaixo da mediana de preço do respectivo zipcode (código de área) e filtrar apenas casas em boas condições."
   ]
  },
  {
   "cell_type": "code",
   "execution_count": 40,
   "id": "44c2cf2e",
   "metadata": {},
   "outputs": [],
   "source": [
    "median = df[['price','zipcode']].groupby('zipcode').median().reset_index()\n",
    "median.rename(columns={'price':'price_median'}, inplace=True)"
   ]
  },
  {
   "cell_type": "code",
   "execution_count": 41,
   "id": "2ccc205b",
   "metadata": {},
   "outputs": [
    {
     "name": "stdout",
     "output_type": "stream",
     "text": [
      "[3 5 4 1 2]\n"
     ]
    }
   ],
   "source": [
    "df2 = pd.merge(df, median, on=['zipcode'], how='inner')\n",
    "print(df['condition'].unique())\n",
    "for i in range(len(df2)):\n",
    "    if (df2.loc[i,'price']< df2.loc[i,'price_median']) and (df2.loc[i,'condition']==5):\n",
    "        df2.loc[i,'recommendation'] = 'buy'\n",
    "    else:\n",
    "        df2.loc[i,'recommendation'] = 'dont buy'\n"
   ]
  },
  {
   "cell_type": "code",
   "execution_count": 42,
   "id": "134dac3d",
   "metadata": {},
   "outputs": [],
   "source": [
    "tobuy = df2[df2['recommendation']=='buy'][['id','zipcode','price','price_median','condition']]"
   ]
  },
  {
   "cell_type": "markdown",
   "id": "ca8e9edb",
   "metadata": {},
   "source": [
    "### Encontrando as maiores diferenças relativas entre o preço e o preço mediano"
   ]
  },
  {
   "cell_type": "code",
   "execution_count": 43,
   "id": "71c49eab",
   "metadata": {},
   "outputs": [
    {
     "data": {
      "text/html": [
       "<div>\n",
       "<style scoped>\n",
       "    .dataframe tbody tr th:only-of-type {\n",
       "        vertical-align: middle;\n",
       "    }\n",
       "\n",
       "    .dataframe tbody tr th {\n",
       "        vertical-align: top;\n",
       "    }\n",
       "\n",
       "    .dataframe thead th {\n",
       "        text-align: right;\n",
       "    }\n",
       "</style>\n",
       "<table border=\"1\" class=\"dataframe\">\n",
       "  <thead>\n",
       "    <tr style=\"text-align: right;\">\n",
       "      <th></th>\n",
       "      <th>id</th>\n",
       "      <th>zipcode</th>\n",
       "      <th>price</th>\n",
       "      <th>price_median</th>\n",
       "      <th>condition</th>\n",
       "      <th>difference</th>\n",
       "    </tr>\n",
       "  </thead>\n",
       "  <tbody>\n",
       "    <tr>\n",
       "      <th>3369</th>\n",
       "      <td>5111400086</td>\n",
       "      <td>98038</td>\n",
       "      <td>110000.00</td>\n",
       "      <td>342000.00</td>\n",
       "      <td>5</td>\n",
       "      <td>67.84</td>\n",
       "    </tr>\n",
       "    <tr>\n",
       "      <th>10647</th>\n",
       "      <td>4337600005</td>\n",
       "      <td>98166</td>\n",
       "      <td>153000.00</td>\n",
       "      <td>390000.00</td>\n",
       "      <td>5</td>\n",
       "      <td>60.77</td>\n",
       "    </tr>\n",
       "    <tr>\n",
       "      <th>10065</th>\n",
       "      <td>418000310</td>\n",
       "      <td>98056</td>\n",
       "      <td>155000.00</td>\n",
       "      <td>380000.00</td>\n",
       "      <td>5</td>\n",
       "      <td>59.21</td>\n",
       "    </tr>\n",
       "    <tr>\n",
       "      <th>5345</th>\n",
       "      <td>1172000150</td>\n",
       "      <td>98103</td>\n",
       "      <td>238000.00</td>\n",
       "      <td>550000.00</td>\n",
       "      <td>5</td>\n",
       "      <td>56.73</td>\n",
       "    </tr>\n",
       "    <tr>\n",
       "      <th>10165</th>\n",
       "      <td>425200205</td>\n",
       "      <td>98056</td>\n",
       "      <td>165000.00</td>\n",
       "      <td>380000.00</td>\n",
       "      <td>5</td>\n",
       "      <td>56.58</td>\n",
       "    </tr>\n",
       "    <tr>\n",
       "      <th>12008</th>\n",
       "      <td>8651402750</td>\n",
       "      <td>98042</td>\n",
       "      <td>132825.00</td>\n",
       "      <td>291500.00</td>\n",
       "      <td>5</td>\n",
       "      <td>54.43</td>\n",
       "    </tr>\n",
       "    <tr>\n",
       "      <th>6876</th>\n",
       "      <td>3977630130</td>\n",
       "      <td>98092</td>\n",
       "      <td>146300.00</td>\n",
       "      <td>309780.00</td>\n",
       "      <td>5</td>\n",
       "      <td>52.77</td>\n",
       "    </tr>\n",
       "    <tr>\n",
       "      <th>18306</th>\n",
       "      <td>643300010</td>\n",
       "      <td>98006</td>\n",
       "      <td>365000.00</td>\n",
       "      <td>760184.50</td>\n",
       "      <td>5</td>\n",
       "      <td>51.99</td>\n",
       "    </tr>\n",
       "    <tr>\n",
       "      <th>16641</th>\n",
       "      <td>1771110090</td>\n",
       "      <td>98077</td>\n",
       "      <td>316000.00</td>\n",
       "      <td>652475.00</td>\n",
       "      <td>5</td>\n",
       "      <td>51.57</td>\n",
       "    </tr>\n",
       "    <tr>\n",
       "      <th>18337</th>\n",
       "      <td>2206700215</td>\n",
       "      <td>98006</td>\n",
       "      <td>375000.00</td>\n",
       "      <td>760184.50</td>\n",
       "      <td>5</td>\n",
       "      <td>50.67</td>\n",
       "    </tr>\n",
       "  </tbody>\n",
       "</table>\n",
       "</div>"
      ],
      "text/plain": [
       "               id  zipcode     price  price_median  condition  difference\n",
       "3369   5111400086    98038 110000.00     342000.00          5       67.84\n",
       "10647  4337600005    98166 153000.00     390000.00          5       60.77\n",
       "10065   418000310    98056 155000.00     380000.00          5       59.21\n",
       "5345   1172000150    98103 238000.00     550000.00          5       56.73\n",
       "10165   425200205    98056 165000.00     380000.00          5       56.58\n",
       "12008  8651402750    98042 132825.00     291500.00          5       54.43\n",
       "6876   3977630130    98092 146300.00     309780.00          5       52.77\n",
       "18306   643300010    98006 365000.00     760184.50          5       51.99\n",
       "16641  1771110090    98077 316000.00     652475.00          5       51.57\n",
       "18337  2206700215    98006 375000.00     760184.50          5       50.67"
      ]
     },
     "execution_count": 43,
     "metadata": {},
     "output_type": "execute_result"
    }
   ],
   "source": [
    "tobuy['difference'] = ((tobuy['price_median']-tobuy['price'])/tobuy['price_median'])*100;\n",
    "tobuy.sort_values('difference',ascending=False).head(10)"
   ]
  },
  {
   "cell_type": "markdown",
   "id": "ccc69950",
   "metadata": {},
   "source": [
    "## Hipótese 2: A diferença de preço mediano entre casas com 1 e 2 quartos é maior do que a diferença entre as outras quantidades de quartos"
   ]
  },
  {
   "cell_type": "markdown",
   "id": "43a26d03",
   "metadata": {},
   "source": [
    "### Estratégia: tirar a média por número de quartos, depois fazer a diferença entre as médias"
   ]
  },
  {
   "cell_type": "code",
   "execution_count": 44,
   "id": "7efc6985",
   "metadata": {},
   "outputs": [
    {
     "data": {
      "image/png": "[encoded data removed]",
      "text/plain": [
       "<Figure size 432x288 with 1 Axes>"
      ]
     },
     "metadata": {
      "needs_background": "light"
     },
     "output_type": "display_data"
    }
   ],
   "source": [
    "quartos = df[['price','bedrooms']].groupby('bedrooms').median().reset_index()\n",
    "\n",
    "\n",
    "\n",
    "plt.bar(quartos['bedrooms'],quartos['price'])\n",
    "\n",
    "plt.xticks(quartos['bedrooms']);\n"
   ]
  },
  {
   "cell_type": "code",
   "execution_count": 45,
   "id": "7fcd7c23",
   "metadata": {},
   "outputs": [
    {
     "name": "stdout",
     "output_type": "stream",
     "text": [
      "   index        dif     qt_quartos\n",
      "0      3  136997.50    De 3 para 4\n",
      "1      8  117000.00    De 8 para 9\n",
      "2      6   78580.00    De 6 para 7\n",
      "3      1   75000.00    De 1 para 2\n",
      "4      4   70002.50    De 4 para 5\n",
      "5      2   39000.00    De 2 para 3\n",
      "6      5   30000.00    De 5 para 6\n",
      "7      7  -28580.00    De 7 para 8\n",
      "8     10 -140000.00  De 10 para 11\n",
      "9      9 -157000.00   De 9 para 10\n"
     ]
    }
   ],
   "source": [
    "dif = pd.DataFrame()\n",
    "for i in range(len(quartos)):\n",
    "    if i == 0:\n",
    "        dif.loc[i,'dif'] = 0\n",
    "        dif.loc[i,'qt_quartos'] = 'De 0 para 0'\n",
    "    else:\n",
    "            dif.loc[i,'qt_quartos'] = 'De {} para {}'.format(quartos.loc[i-1,'bedrooms'],quartos.loc[i,'bedrooms'])\n",
    "            dif.loc[i,'dif'] = quartos.loc[i,'price']-quartos.loc[i-1,'price']\n",
    "dif.drop(0,inplace=True)\n",
    "dif = dif.sort_values('dif',ascending=False).reset_index()\n",
    "print(dif)\n"
   ]
  },
  {
   "cell_type": "markdown",
   "id": "712e32d8",
   "metadata": {},
   "source": [
    "## Hipótese 3: Imóveis construídos até 1950 e que foram reformados tem preços 20% maiores do que os que não foram reformados, em média"
   ]
  },
  {
   "cell_type": "markdown",
   "id": "48a25bb5",
   "metadata": {},
   "source": [
    "### Estratégia: filtrar imóveis com ano construído menor que 1950, separar os que foram renovados e os que não foram e tirar as médias"
   ]
  },
  {
   "cell_type": "code",
   "execution_count": 46,
   "id": "b14f527f",
   "metadata": {},
   "outputs": [
    {
     "data": {
      "text/plain": [
       "<BarContainer object of 2 artists>"
      ]
     },
     "execution_count": 46,
     "metadata": {},
     "output_type": "execute_result"
    },
    {
     "data": {
      "image/png": "[encoded data removed]",
      "text/plain": [
       "<Figure size 432x288 with 1 Axes>"
      ]
     },
     "metadata": {
      "needs_background": "light"
     },
     "output_type": "display_data"
    }
   ],
   "source": [
    "a_1950 = df[df['yr_built']<=1950]\n",
    "aref_1950 = a_1950[a_1950['yr_renovated']!=0]['price'].mean()\n",
    "nref_1950 = a_1950[a_1950['yr_renovated']==0]['price'].mean()\n",
    "\n",
    "\n",
    "plt.bar(['Não reformados','Reformados'],[nref_1950,aref_1950])\n"
   ]
  },
  {
   "cell_type": "markdown",
   "id": "18748e4e",
   "metadata": {},
   "source": [
    "## Hipótese 4: Os imóveis com vista para água se valorizam mais com o tempo"
   ]
  },
  {
   "cell_type": "markdown",
   "id": "50974669",
   "metadata": {},
   "source": [
    "### Estratégia: fazer uma coluna apenas com o ano, agrupar com base no ano e vista pra água, plotar médias de preço com e sem vista para cada ano. "
   ]
  },
  {
   "cell_type": "code",
   "execution_count": 47,
   "id": "213b4333",
   "metadata": {},
   "outputs": [
    {
     "data": {
      "image/png": "[encoded data removed]",
      "text/plain": [
       "<Figure size 432x288 with 1 Axes>"
      ]
     },
     "metadata": {
      "needs_background": "light"
     },
     "output_type": "display_data"
    }
   ],
   "source": [
    "df['year'] = df['date'].dt.year\n",
    "water = df[['price','year','waterfront']].groupby(['waterfront','year']).mean().reset_index()\n",
    "\n",
    "plt.plot(water[water['waterfront']==0]['year'], water[water['waterfront']==0]['price'], label = \"Sem vista\")\n",
    "plt.plot(water[water['waterfront']==1]['year'], water[water['waterfront']==1]['price'], label = \"Com vista\")\n",
    "plt.xticks(water['year']);\n",
    "plt.legend()\n",
    "plt.show()"
   ]
  },
  {
   "cell_type": "markdown",
   "id": "ecf0b32f",
   "metadata": {},
   "source": [
    "## Hipótese 5: Imóveis com porão são 20% mais caros que imóveis sem porão"
   ]
  },
  {
   "cell_type": "markdown",
   "id": "62997e6e",
   "metadata": {},
   "source": [
    "### Estratégia: separar imóveis com e sem porão pela área e criar gráfico de barras"
   ]
  },
  {
   "cell_type": "code",
   "execution_count": 48,
   "id": "911c389c",
   "metadata": {},
   "outputs": [
    {
     "data": {
      "text/plain": [
       "<BarContainer object of 2 artists>"
      ]
     },
     "execution_count": 48,
     "metadata": {},
     "output_type": "execute_result"
    },
    {
     "data": {
      "image/png": "[encoded data removed]",
      "text/plain": [
       "<Figure size 432x288 with 1 Axes>"
      ]
     },
     "metadata": {
      "needs_background": "light"
     },
     "output_type": "display_data"
    }
   ],
   "source": [
    "por = df[df['sqft_basement']>0]['price'].mean()\n",
    "spor = df[df['sqft_basement']==0]['price'].mean()\n",
    "\n",
    "plt.bar(['Sem porão','Com porão'],[spor,por])"
   ]
  },
  {
   "cell_type": "markdown",
   "id": "863c9bc5",
   "metadata": {},
   "source": [
    "## Hipótese 6: É possível ter diferença de preços médios de imóveis de 10% entre meses devido à sazonalidade"
   ]
  },
  {
   "cell_type": "markdown",
   "id": "571c4567",
   "metadata": {},
   "source": [
    "### Estratégia: extrair da data uma coluna de mês, criar uma nova coluna apenas com mês e ano e plotar valores médios em uma série temporal"
   ]
  },
  {
   "cell_type": "code",
   "execution_count": 49,
   "id": "3d0f07b7",
   "metadata": {},
   "outputs": [
    {
     "data": {
      "text/plain": [
       "[<matplotlib.lines.Line2D at 0x29c7d5459d0>]"
      ]
     },
     "execution_count": 49,
     "metadata": {},
     "output_type": "execute_result"
    },
    {
     "data": {
      "image/png": "[encoded data removed]",
      "text/plain": [
       "<Figure size 432x288 with 1 Axes>"
      ]
     },
     "metadata": {
      "needs_background": "light"
     },
     "output_type": "display_data"
    }
   ],
   "source": [
    "df['month'] = df['date'].dt.month\n",
    "\n",
    "MoM = df[['price','month','year']].groupby(['year','month']).mean().reset_index()\n",
    "MoM[['month','year']]=MoM[['month','year']].astype(str)\n",
    "MoM['month/year'] = MoM['month'] + '/' + MoM['year']\n",
    "MoM.drop(['year','month'],axis=1,inplace=True)\n",
    "MoM['month/year'] = pd.to_datetime(MoM['month/year'],format='%m/%Y')\n",
    "plt.plot(MoM['month/year'],MoM['price'])"
   ]
  },
  {
   "cell_type": "code",
   "execution_count": null,
   "id": "76881126",
   "metadata": {},
   "outputs": [],
   "source": []
  }
 ],
 "metadata": {
  "kernelspec": {
   "display_name": "Python 3 (ipykernel)",
   "language": "python",
   "name": "python3"
  },
  "language_info": {
   "codemirror_mode": {
    "name": "ipython",
    "version": 3
   },
   "file_extension": ".py",
   "mimetype": "text/x-python",
   "name": "python",
   "nbconvert_exporter": "python",
   "pygments_lexer": "ipython3",
   "version": "3.9.7"
  }
 },
 "nbformat": 4,
 "nbformat_minor": 5
}
